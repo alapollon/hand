{
  "nbformat": 4,
  "nbformat_minor": 0,
  "metadata": {
    "colab": {
      "provenance": [],
      "authorship_tag": "ABX9TyNGxaNjJLtqfspsyXnOCmPi"
    },
    "kernelspec": {
      "name": "python3",
      "display_name": "Python 3"
    },
    "language_info": {
      "name": "python"
    }
  },
  "cells": [
    {
      "cell_type": "code",
      "execution_count": 1,
      "metadata": {
        "id": "Bt2MgjU-Mlaq"
      },
      "outputs": [],
      "source": [
        "try:\n",
        "  import tensorflow as tf\n",
        "\n",
        "except ModuleNotFoundError:\n",
        "  !pip install tensorflow\n",
        "  import tensorflow as tf\n"
      ]
    },
    {
      "cell_type": "code",
      "source": [
        "try:\n",
        "  import pandas as pd\n",
        "except ModuleNotFoundError:\n",
        "  !pip install pandas\n",
        "  import pandas as pd"
      ],
      "metadata": {
        "id": "Ducve9b7M82o"
      },
      "execution_count": 2,
      "outputs": []
    },
    {
      "cell_type": "code",
      "source": [
        "try:\n",
        "  import numpy as np\n",
        "except ModuleNotFoundError:\n",
        "  !pip install numpy\n",
        "  import numpy as np"
      ],
      "metadata": {
        "id": "KBOqT_P6NZgR"
      },
      "execution_count": 3,
      "outputs": []
    },
    {
      "cell_type": "code",
      "source": [
        "mapping_set = np.array([])\n",
        "\n",
        "import cv2 as V2\n",
        "import mimetypes as meme\n",
        "\n",
        "\n",
        "\n",
        "\n",
        "class LFramework():\n",
        "  def __init__(self, path):\n",
        "    self.frame_count = V2.VideoCapture.get(V2.CAP_PROP_FRAME_COUNT)\n",
        "    self.t = t = [lambda w = path: V2.VideoCapture.set(V2.CAP_PROP_POS_FRAMES, w) or V2.VideoCapture.read(w)[1]\n",
        "       for i in range(self.frame_count)]\n",
        "\n",
        " #todo! check private journal 0029\n",
        "  async def stream_data(self):\n",
        "      for i in enumerate(self.t):\n",
        "        yield i\n",
        "\n",
        "\n",
        "\n"
      ],
      "metadata": {
        "id": "xZB_GNPqN1oj"
      },
      "execution_count": 11,
      "outputs": []
    }
  ]
}