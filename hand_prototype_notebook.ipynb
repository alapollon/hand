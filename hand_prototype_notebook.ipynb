{
  "nbformat": 4,
  "nbformat_minor": 0,
  "metadata": {
    "colab": {
      "provenance": [],
      "authorship_tag": "ABX9TyMO7G1UZElZ+TEgVHOACq8D",
      "include_colab_link": true
    },
    "kernelspec": {
      "name": "python3",
      "display_name": "Python 3"
    },
    "language_info": {
      "name": "python"
    }
  },
  "cells": [
    {
      "cell_type": "markdown",
      "metadata": {
        "id": "view-in-github",
        "colab_type": "text"
      },
      "source": [
        "<a href=\"https://colab.research.google.com/github/alapollon/hand/blob/main/hand_prototype_notebook.ipynb\" target=\"_parent\"><img src=\"https://colab.research.google.com/assets/colab-badge.svg\" alt=\"Open In Colab\"/></a>"
      ]
    },
    {
      "cell_type": "code",
      "execution_count": 1,
      "metadata": {
        "id": "Bt2MgjU-Mlaq"
      },
      "outputs": [],
      "source": [
        "try:\n",
        "  import tensorflow as tf\n",
        "\n",
        "except ModuleNotFoundError:\n",
        "  !pip install tensorflow\n",
        "  import tensorflow as tf\n"
      ]
    },
    {
      "cell_type": "code",
      "source": [
        "try:\n",
        "  import pandas as pd\n",
        "except ModuleNotFoundError:\n",
        "  !pip install pandas\n",
        "  import pandas as pd"
      ],
      "metadata": {
        "id": "Ducve9b7M82o"
      },
      "execution_count": 2,
      "outputs": []
    },
    {
      "cell_type": "code",
      "source": [
        "try:\n",
        "  import numpy as np\n",
        "except ModuleNotFoundError:\n",
        "  !pip install numpy\n",
        "  import numpy as np"
      ],
      "metadata": {
        "id": "KBOqT_P6NZgR"
      },
      "execution_count": 3,
      "outputs": []
    },
    {
      "cell_type": "code",
      "source": [
        "try:\n",
        "  import scipy as sp\n",
        "except ModuleNotFoundError:\n",
        "    !pip install scipy\n",
        "    import scipy as sp"
      ],
      "metadata": {
        "id": "tD1v2aQeW5dU"
      },
      "execution_count": 14,
      "outputs": []
    },
    {
      "cell_type": "code",
      "source": [
        "try:\n",
        "  import cv2 as V2\n",
        "except ModuleNotFoundError:\n",
        "  !pip install opencv-python\n",
        "  import cv2 as V2"
      ],
      "metadata": {
        "id": "5nEB0Y8jGDYa"
      },
      "execution_count": 4,
      "outputs": []
    },
    {
      "cell_type": "code",
      "source": [
        "import abc\n",
        "from functools import lru_cache\n",
        "from asyncio import run"
      ],
      "metadata": {
        "id": "stoJjHN_Hq_y"
      },
      "execution_count": 7,
      "outputs": []
    },
    {
      "cell_type": "code",
      "source": [
        "import"
      ],
      "metadata": {
        "id": "p6lm-Z7gUOK7"
      },
      "execution_count": null,
      "outputs": []
    },
    {
      "cell_type": "code",
      "source": [
        "#todo! check journal entry 0027\n",
        "\n",
        "Discrete = V2.imread\n",
        "category = np.array\n",
        "asarray = np.asarray\n",
        "series = pd.series\n",
        "\n",
        "\n",
        "\"\"\"\n",
        "Title: GaborFilter\n",
        "usage of :-\n",
        "- sigma = 0\n",
        "- theta = 0\n",
        "- Lambda = 0\n",
        "- gamma = 0\n",
        "- psi = 0\n",
        "                                \"\"\"\n",
        "GaborFilter = sp.signal.gabor_filter\n",
        "\n"
      ],
      "metadata": {
        "id": "3wW7bQblGUXq"
      },
      "execution_count": 13,
      "outputs": []
    },
    {
      "cell_type": "code",
      "source": [
        "#todo! check journal entry 0028\n",
        "\n",
        "class PlaneInferenceData():\n",
        "  def __init__(self, data_input) -> None:\n",
        "    self.reading = data_input\n",
        "    ...\n",
        "\n",
        "\n"
      ],
      "metadata": {
        "id": "-Pfp8qPlbrEg"
      },
      "execution_count": 11,
      "outputs": []
    },
    {
      "cell_type": "code",
      "source": [
        "@abc.abstractmethod\n",
        "def lastIndexof(**kwargs):\n",
        "  for k, val in kwargs.items():\n",
        "     return V2.absdiff(val,val)\n",
        "\n",
        "\n",
        "@lru_cache\n",
        "@abc.abstractmethod\n",
        "def indexOf(*args):\n",
        "  # todo check journal entry 0033\n"
      ],
      "metadata": {
        "id": "mFaPJlShMb_F"
      },
      "execution_count": 9,
      "outputs": []
    },
    {
      "cell_type": "code",
      "source": [
        "\n",
        "\n",
        "# instantaneous\n",
        "\n",
        "#todo! configure change method to cross inbound payloads\n",
        "class Lframework():\n",
        "  def __init__(self, path):\n",
        "    self.count = V2.CAP_PROP_FRAME_COUNT or 0\n",
        "    self.w = asarray([]);\n",
        "\n",
        "\n",
        "  #todo check journal entry 0031\n",
        "  async def cap_stream_data(self):\n",
        "    if path is not None:\n",
        "      run(self.w([ lambda path: V2.VideoCapture.set(self.count, path) & Discrete(V2.VideoCapture.read(path)[1])\n",
        "       for i in range(self.count)]))\n",
        "      for i in enumerate(self.w)\n",
        "            yield i\n",
        "\n",
        "    #todo! check journal entry 0029\n",
        "\n",
        "\n",
        "\n",
        "\"\"\"\n",
        "def __init__(self, path):\n",
        "\n",
        "\"\"\"\n",
        "\n",
        "\n",
        "\n"
      ],
      "metadata": {
        "id": "xZB_GNPqN1oj",
        "colab": {
          "base_uri": "https://localhost:8080/",
          "height": 105
        },
        "outputId": "6b1a23f5-4a0d-483e-de64-cbbab8c693ad"
      },
      "execution_count": 12,
      "outputs": [
        {
          "output_type": "error",
          "ename": "SyntaxError",
          "evalue": "invalid syntax (<ipython-input-12-6657fa43aa4c>, line 18)",
          "traceback": [
            "\u001b[0;36m  File \u001b[0;32m\"<ipython-input-12-6657fa43aa4c>\"\u001b[0;36m, line \u001b[0;32m18\u001b[0m\n\u001b[0;31m    if path is not :\u001b[0m\n\u001b[0m                   ^\u001b[0m\n\u001b[0;31mSyntaxError\u001b[0m\u001b[0;31m:\u001b[0m invalid syntax\n"
          ]
        }
      ]
    },
    {
      "cell_type": "code",
      "source": [
        "L = Lframework\n",
        "PID = PlaneInferenceData"
      ],
      "metadata": {
        "id": "IgVE0kLmew5u"
      },
      "execution_count": null,
      "outputs": []
    },
    {
      "cell_type": "code",
      "source": [
        "def stream_data():\n",
        ""
      ],
      "metadata": {
        "id": "rYoww_RwUKJ3"
      },
      "execution_count": null,
      "outputs": []
    },
    {
      "cell_type": "code",
      "source": [
        "while V2.VideoCapture.isopened():\n",
        "  if L.count > 0:\n",
        "\n",
        "  else:\n",
        "\n",
        "    if lastIndexof():\n",
        "\n",
        "\n",
        "\n"
      ],
      "metadata": {
        "id": "-_J_gvzJqOaA"
      },
      "execution_count": null,
      "outputs": []
    }
  ]
}