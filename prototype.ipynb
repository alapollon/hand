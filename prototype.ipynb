{
  "nbformat": 4,
  "nbformat_minor": 0,
  "metadata": {
    "colab": {
      "provenance": [],
      "authorship_tag": "ABX9TyM7DXjKziRYpvfB0H9K+Rj1",
      "include_colab_link": true
    },
    "kernelspec": {
      "name": "python3",
      "display_name": "Python 3"
    },
    "language_info": {
      "name": "python"
    }
  },
  "cells": [
    {
      "cell_type": "markdown",
      "metadata": {
        "id": "view-in-github",
        "colab_type": "text"
      },
      "source": [
        "<a href=\"https://colab.research.google.com/github/alapollon/handshake/blob/main/prototype.ipynb\" target=\"_parent\"><img src=\"https://colab.research.google.com/assets/colab-badge.svg\" alt=\"Open In Colab\"/></a>"
      ]
    },
    {
      "cell_type": "code",
      "execution_count": null,
      "metadata": {
        "id": "Bt2MgjU-Mlaq"
      },
      "outputs": [],
      "source": [
        "try:\n",
        "  import tensorflow as tf\n",
        "\n",
        "except ModuleNotFoundError:\n",
        "  !pip install tensorflow\n",
        "  import tensorflow as tf\n"
      ]
    },
    {
      "cell_type": "code",
      "source": [
        "try:\n",
        "  import pandas as pd\n",
        "except ModuleNotFoundError:\n",
        "  !pip install pandas\n",
        "  import pandas as pd"
      ],
      "metadata": {
        "id": "Ducve9b7M82o"
      },
      "execution_count": null,
      "outputs": []
    },
    {
      "cell_type": "code",
      "source": [
        "try:\n",
        "  import numpy as np\n",
        "except ModuleNotFoundError:\n",
        "  !pip install numpy\n",
        "  import numpy as np"
      ],
      "metadata": {
        "id": "KBOqT_P6NZgR"
      },
      "execution_count": 2,
      "outputs": []
    },
    {
      "cell_type": "code",
      "source": [
        "try:\n",
        "  import cv2 as V2\n",
        "except ModuleNotFoundError:\n",
        "  !pip install opencv-python\n",
        "  import cv2 as V2"
      ],
      "metadata": {
        "id": "5nEB0Y8jGDYa"
      },
      "execution_count": 6,
      "outputs": []
    },
    {
      "cell_type": "code",
      "source": [
        "#todo! check journal entry 0027\n",
        "obj_category = np.array([])"
      ],
      "metadata": {
        "id": "3wW7bQblGUXq"
      },
      "execution_count": 3,
      "outputs": []
    },
    {
      "cell_type": "code",
      "source": [
        "def lastIndexof(*args):\n",
        "  return 0\n",
        "\n",
        "def indexOf(*args):\n",
        "  return 0"
      ],
      "metadata": {
        "id": "mFaPJlShMb_F"
      },
      "execution_count": 17,
      "outputs": []
    },
    {
      "cell_type": "code",
      "source": [
        "\n",
        "#todo! configure change method to cross inbound payloads\n",
        "class LFramework():\n",
        "\n",
        "  def __init__(self, path):\n",
        "    self.count = V2.CAP_PROP_FRAME_COUNT or 0\n",
        "    self.w = [ lambda path: V2.VideoCapture.set(self.count, path) or V2.VideoCapture.read(path)[1]\n",
        "       for i in range(self.count)];\n",
        "    self.theta = [ ];\n",
        "    #todo! check journal entry 0029\n",
        "  def stream_data(self):\n",
        "     while V2.absdiff(lastIndexof(),indexOf()):\n",
        "      # pop motion picture\n",
        "      self.theta.pop()\n",
        "\n",
        "\n",
        "# set to complete for timing\n",
        "L = LFramework(0).stream_data()\n",
        "\n",
        "\n",
        "\n"
      ],
      "metadata": {
        "id": "xZB_GNPqN1oj",
        "colab": {
          "base_uri": "https://localhost:8080/",
          "height": 326
        },
        "outputId": "0c4d07dd-751d-42ca-c73c-626fc52f6555"
      },
      "execution_count": 19,
      "outputs": [
        {
          "output_type": "error",
          "ename": "ValueError",
          "evalue": "The truth value of an array with more than one element is ambiguous. Use a.any() or a.all()",
          "traceback": [
            "\u001b[0;31m---------------------------------------------------------------------------\u001b[0m",
            "\u001b[0;31mValueError\u001b[0m                                Traceback (most recent call last)",
            "\u001b[0;32m<ipython-input-19-780a0f269373>\u001b[0m in \u001b[0;36m<cell line: 0>\u001b[0;34m()\u001b[0m\n\u001b[1;32m     15\u001b[0m \u001b[0;34m\u001b[0m\u001b[0m\n\u001b[1;32m     16\u001b[0m \u001b[0;31m# set to complete for timing\u001b[0m\u001b[0;34m\u001b[0m\u001b[0;34m\u001b[0m\u001b[0m\n\u001b[0;32m---> 17\u001b[0;31m \u001b[0mL\u001b[0m \u001b[0;34m=\u001b[0m \u001b[0mLFramework\u001b[0m\u001b[0;34m(\u001b[0m\u001b[0;36m0\u001b[0m\u001b[0;34m)\u001b[0m\u001b[0;34m.\u001b[0m\u001b[0mstream_data\u001b[0m\u001b[0;34m(\u001b[0m\u001b[0;34m)\u001b[0m\u001b[0;34m\u001b[0m\u001b[0;34m\u001b[0m\u001b[0m\n\u001b[0m\u001b[1;32m     18\u001b[0m \u001b[0;34m\u001b[0m\u001b[0m\n\u001b[1;32m     19\u001b[0m \u001b[0;34m\u001b[0m\u001b[0m\n",
            "\u001b[0;32m<ipython-input-19-780a0f269373>\u001b[0m in \u001b[0;36mstream_data\u001b[0;34m(self)\u001b[0m\n\u001b[1;32m      9\u001b[0m     \u001b[0;31m#todo! check journal entry 0029\u001b[0m\u001b[0;34m\u001b[0m\u001b[0;34m\u001b[0m\u001b[0m\n\u001b[1;32m     10\u001b[0m   \u001b[0;32mdef\u001b[0m \u001b[0mstream_data\u001b[0m\u001b[0;34m(\u001b[0m\u001b[0mself\u001b[0m\u001b[0;34m)\u001b[0m\u001b[0;34m:\u001b[0m\u001b[0;34m\u001b[0m\u001b[0;34m\u001b[0m\u001b[0m\n\u001b[0;32m---> 11\u001b[0;31m      \u001b[0;32mwhile\u001b[0m \u001b[0mV2\u001b[0m\u001b[0;34m.\u001b[0m\u001b[0mabsdiff\u001b[0m\u001b[0;34m(\u001b[0m\u001b[0mlastIndexof\u001b[0m\u001b[0;34m(\u001b[0m\u001b[0;34m)\u001b[0m\u001b[0;34m,\u001b[0m\u001b[0mindexOf\u001b[0m\u001b[0;34m(\u001b[0m\u001b[0;34m)\u001b[0m\u001b[0;34m)\u001b[0m\u001b[0;34m:\u001b[0m\u001b[0;34m\u001b[0m\u001b[0;34m\u001b[0m\u001b[0m\n\u001b[0m\u001b[1;32m     12\u001b[0m       \u001b[0;31m# pop motion picture\u001b[0m\u001b[0;34m\u001b[0m\u001b[0;34m\u001b[0m\u001b[0m\n\u001b[1;32m     13\u001b[0m       \u001b[0mself\u001b[0m\u001b[0;34m.\u001b[0m\u001b[0mtheta\u001b[0m\u001b[0;34m.\u001b[0m\u001b[0mpop\u001b[0m\u001b[0;34m(\u001b[0m\u001b[0;34m)\u001b[0m\u001b[0;34m\u001b[0m\u001b[0;34m\u001b[0m\u001b[0m\n",
            "\u001b[0;31mValueError\u001b[0m: The truth value of an array with more than one element is ambiguous. Use a.any() or a.all()"
          ]
        }
      ]
    },
    {
      "cell_type": "code",
      "source": [],
      "metadata": {
        "id": "cgtHfhhNF8bo"
      },
      "execution_count": null,
      "outputs": []
    },
    {
      "cell_type": "markdown",
      "source": [],
      "metadata": {
        "id": "BTGKc18SF785"
      }
    }
  ]
}