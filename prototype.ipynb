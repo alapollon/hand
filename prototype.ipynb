{
  "cells": [
    {
      "cell_type": "markdown",
      "metadata": {
        "colab_type": "text",
        "id": "view-in-github"
        "colab_type": "text",
        "id": "view-in-github"
      },
      "source": [
        "<a href=\"https://colab.research.google.com/github/alapollon/handshake/blob/main/prototype.ipynb\" target=\"_parent\"><img src=\"https://colab.research.google.com/assets/colab-badge.svg\" alt=\"Open In Colab\"/></a>"
      ]
    },
    {
      "cell_type": "code",
      "execution_count": null,
      "metadata": {
        "id": "Ducve9b7M82o"
      },
      "outputs": [],
      "source": [
        "try:\n",
        "  import pandas as pd\n",
        "except ModuleNotFoundError:\n",
        "  %pip install pandas\n",
        "  import pandas as pd"
      ]
    },
    {
      "cell_type": "code",
      "execution_count": null,
      "metadata": {
        "id": "KBOqT_P6NZgR"
      },
      "outputs": [],
      "source": [
        "try:\n",
        "  import numpy as np\n",
        "except ModuleNotFoundError:\n",
        "  %pip install numpy\n",
        "  import numpy as np"
      ]
      ]
    },
    {
      "cell_type": "code",
      "execution_count": null,
      "metadata": {
        "id": "5nEB0Y8jGDYa"
      },
      "outputs": [],
      "execution_count": null,
      "metadata": {
        "id": "5nEB0Y8jGDYa"
      },
      "outputs": [],
      "source": [
        "try:\n",
        "  import cv2 as V2\n",
        "except ModuleNotFoundError:\n",
        "  %pip install opencv-python\n",
        "  import cv2 as V2"
      ]
    },
    {
      "cell_type": "code",
      "execution_count": null,
      "metadata": {},
      "outputs": [],
      "source": []
    },
    {
      "cell_type": "code",
      "execution_count": null,
      "metadata": {
        "id": "stoJjHN_Hq_y"
      },
      "outputs": [],
      "execution_count": null,
      "metadata": {
        "id": "stoJjHN_Hq_y"
      },
      "outputs": [],
      "source": [
        "import abc\n",
        "from asyncio import run"
      ]
      ]
    },
    {
      "cell_type": "code",
      "execution_count": null,
      "metadata": {
        "id": "3wW7bQblGUXq"
      },
      "outputs": [],
      "execution_count": null,
      "metadata": {
        "id": "3wW7bQblGUXq"
      },
      "outputs": [],
      "source": [
        "#todo! check journal entry 0027\n",
        "\n",
        "Discrete = V2.imread\n",
        "obj_category = pd.Dataframes\n",
        "asarray = np.asarray\n",
        "\n",
        "\"\"\"\n",
        "cv2.getGaborKernel((ksize, ksize), sigma, theta, frequency, phase)\n",
        "                                \"\"\"\n",
        "grr = V2.getGaborKernel()\n",
        "\n"
      ]
      ]
    },
    {
      "cell_type": "code",
      "execution_count": null,
      "metadata": {
        "id": "-Pfp8qPlbrEg"
      },
      "outputs": [],
      "execution_count": null,
      "metadata": {
        "id": "-Pfp8qPlbrEg"
      },
      "outputs": [],
      "source": [
        "\"\"\"\n",
        "  todo! check journal entry 0028\n",
        "\"\"\"\n",
        "class PlaneInferenceData():\n",
        "  def __init__(self, ):\n",
        "    self.laplace = obj_category([]);\n",
        "\n",
        "  def grayscale(self):\n",
        "    return\n",
        "\n",
        "  def filter(self):\n",
        "    return\n",
        "\n"
      ]
        "\n"
      ]
    },
    {
      "cell_type": "code",
      "execution_count": null,
      "metadata": {
        "id": "mFaPJlShMb_F"
      },
      "outputs": [],
      "execution_count": null,
      "metadata": {
        "id": "mFaPJlShMb_F"
      },
      "outputs": [],
      "source": [
        "@abc.abstractmethod\n",
        "def lastIndexof(**kwargs):\n",
        "  for k, val in kwargs.items():\n",
        "     assert V2.absdiff(val,val)\n",
        "\n",
        "\n",
        "@abc.abstractmethod\n",
        "def indexOf(*args):\n",
        "  for i in args:\n",
        "    return grr()\n"
      ]
      ]
    },
    {
      "cell_type": "code",
      "execution_count": null,
      "metadata": {
        "id": "xZB_GNPqN1oj"
      },
      "outputs": [],
      "execution_count": null,
      "metadata": {
        "id": "xZB_GNPqN1oj"
      },
      "outputs": [],
      "source": [
        "\n",
        "\n",
        "# instantaneous\n",
        "\n",
        "#todo! configure change method to cross inbound payloads\n",
        "class Lframework():\n",
        "  def __init__(self, path):\n",
        "    self.count = V2.CAP_PROP_FRAME_COUNT or 0\n",
        "    #todo! make object configurable for inbound payloads and or reads from file directory\n",
        "    self.w = asarray([]);\n",
        "\n",
        "  async def cap(self):\n",
        "     self.w[ lambda path: V2.VideoCapture.set(self.count, path) & Discrete(V2.VideoCapture.read(path)[1])\n",
        "       for i in range(self.count)]\n",
        "    #todo! check journal entry 0029\n",
        "  async def stream_data(self):\n",
        "    if path is not null:\n",
        "      run(cap)\n",
        "      for i in enumerate(self.w):\n",
        "          yield i\n",
        "\n",
        "\"\"\"\n",
        "# set to complete for timing\n",
        "  LFramework(0).stream_data()\n",
        "\"\"\"\n",
        "\n",
        "\"\"\"\n",
        "def __init__(self, path):\n",
        "\n",
        "\"\"\"\n",
        "\n",
        "\n",
        "\n",
        "\n"
      ]
      ]
    },
    {
      "cell_type": "code",
      "execution_count": null,
      "metadata": {
        "id": "IgVE0kLmew5u"
      },
      "outputs": [],
      "execution_count": null,
      "metadata": {
        "id": "IgVE0kLmew5u"
      },
      "outputs": [],
      "source": [
        "L = Lframework\n",
        "PID = PlaneInferenceData"
      ]
      ]
    },
    {
      "cell_type": "code",
      "execution_count": null,
      "metadata": {},
      "outputs": [],
      "source": [
        "e"
      ]
    }
  ],
  "metadata": {
    "colab": {
      "authorship_tag": "ABX9TyPnYuGQsk/dNKn3dPZpqC9e",
      "include_colab_link": true,
      "provenance": []
    },
    "kernelspec": {
      "display_name": "Python 3",
      "name": "python3"
    },
    "language_info": {
      "name": "python"
    }
  },
  "nbformat": 4,
  "nbformat_minor": 0
}
