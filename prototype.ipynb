{
  "nbformat": 4,
  "nbformat_minor": 0,
  "metadata": {
    "colab": {
      "provenance": [],
      "authorship_tag": "ABX9TyNuMuvJk+QYu9K+AVI56oHm",
      "include_colab_link": true
    },
    "kernelspec": {
      "name": "python3",
      "display_name": "Python 3"
    },
    "language_info": {
      "name": "python"
    }
  },
  "cells": [
    {
      "cell_type": "markdown",
      "metadata": {
        "id": "view-in-github",
        "colab_type": "text"
      },
      "source": [
        "<a href=\"https://colab.research.google.com/github/alapollon/handshake/blob/main/prototype.ipynb\" target=\"_parent\"><img src=\"https://colab.research.google.com/assets/colab-badge.svg\" alt=\"Open In Colab\"/></a>"
      ]
    },
    {
      "cell_type": "code",
      "execution_count": null,
      "metadata": {
        "id": "Bt2MgjU-Mlaq"
      },
      "outputs": [],
      "source": [
        "try:\n",
        "  import tensorflow as tf\n",
        "\n",
        "except ModuleNotFoundError:\n",
        "  !pip install tensorflow\n",
        "  import tensorflow as tf\n"
      ]
    },
    {
      "cell_type": "code",
      "source": [
        "try:\n",
        "  import pandas as pd\n",
        "except ModuleNotFoundError:\n",
        "  !pip install pandas\n",
        "  import pandas as pd"
      ],
      "metadata": {
        "id": "Ducve9b7M82o"
      },
      "execution_count": null,
      "outputs": []
    },
    {
      "cell_type": "code",
      "source": [
        "try:\n",
        "  import numpy as np\n",
        "except ModuleNotFoundError:\n",
        "  !pip install numpy\n",
        "  import numpy as np"
      ],
      "metadata": {
        "id": "KBOqT_P6NZgR"
      },
      "execution_count": 2,
      "outputs": []
    },
    {
      "cell_type": "code",
      "source": [
        "try:\n",
        "  import cv2 as V2\n",
        "except ModuleNotFoundError:\n",
        "  !pip install opencv-python\n",
        "  import cv2 as V2"
      ],
      "metadata": {
        "id": "5nEB0Y8jGDYa"
      },
      "execution_count": 6,
      "outputs": []
    },
    {
      "cell_type": "code",
      "source": [
        "#todo! check journal entry 0027\n",
        "obj_category = np.array([])"
      ],
      "metadata": {
        "id": "3wW7bQblGUXq"
      },
      "execution_count": 3,
      "outputs": []
    },
    {
      "cell_type": "code",
      "source": [
        "def lastIndexof(*args):\n",
        "  return 0\n",
        "\n",
        "def indexOf(*args):\n",
        "  return 0"
      ],
      "metadata": {
        "id": "mFaPJlShMb_F"
      },
      "execution_count": 17,
      "outputs": []
    },
    {
      "cell_type": "code",
      "source": [
        "\n",
        "#todo! configure change method to cross inbound payloads\n",
        "class LFramework():\n",
        "\n",
        "  def __init__(self, path):\n",
        "    self.count = V2.CAP_PROP_FRAME_COUNT or 0\n",
        "    self.w = [ lambda path: V2.VideoCapture.set(self.count, path) or V2.VideoCapture.read(path)[1]\n",
        "       for i in range(self.count)];\n",
        "    self.theta = [ ];\n",
        "    #todo! check journal entry 0029\n",
        "  def stream_data(self):\n",
        "     while V2.absdiff(lastIndexof(),indexOf()):\n",
        "      # pop motion picture\n",
        "      self.theta.push()\n",
        "      self.w.pop()\n",
        "      for i in enumerate(self.theta):\n",
        "        yield i\n",
        "\n",
        "\n",
        "\n",
        "# set to complete for timing\n",
        "L = LFramework(0).stream_data()\n",
        "\n",
        "\n",
        "\n"
      ],
      "metadata": {
        "id": "xZB_GNPqN1oj"
      },
      "execution_count": null,
      "outputs": []
    },
    {
      "cell_type": "code",
      "source": [],
      "metadata": {
        "id": "cgtHfhhNF8bo"
      },
      "execution_count": null,
      "outputs": []
    },
    {
      "cell_type": "markdown",
      "source": [],
      "metadata": {
        "id": "BTGKc18SF785"
      }
    }
  ]
}